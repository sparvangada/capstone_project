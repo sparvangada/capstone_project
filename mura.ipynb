{
 "cells": [
  {
   "cell_type": "code",
   "execution_count": 1,
   "metadata": {},
   "outputs": [],
   "source": [
    "#Reads the MURA dir structure,for every patient, every study under it,computes the total \n",
    "#views/images and extracts the label from the study label.\n",
    "#Also computes patient study count for visualizing the data in the next section.\n",
    "import os\n",
    "import pandas as pd\n",
    "from tqdm import tqdm\n",
    "\n",
    "data_cat = ['train', 'valid'] # data categories\n",
    "\n",
    "def get_path_imgCount_label(study_type):\n",
    "    \n",
    "    study_label = {'positive': 1, 'negative': 0}\n",
    "    study_data = {}\n",
    "    patientStudyCount={}\n",
    "    for phase in data_cat:\n",
    "        BASE_DIR = './MURA-v1.1/%s/%s/' % (phase, study_type)\n",
    "        patients = list(os.walk(BASE_DIR))[0][1] # list of patient folder names\n",
    "        #print(\"patients={}\".format(patients))\n",
    "        study_data[phase] = pd.DataFrame(columns=['Path', 'Count', 'Label'])\n",
    "        patientStudyCount[phase] = pd.DataFrame(columns=['StudyCount'])\n",
    "        #print(\"study_data=\".format(study_data))\n",
    "        i = 0;j=0\n",
    "        \n",
    "        for patient in tqdm(patients): # for each patient folder\n",
    "            patientStudyCount[phase].loc[j]=[len(os.listdir(BASE_DIR + patient))]\n",
    "            #print(\"patient={}, study_count={}\".format(patient,patientStudyCount))\n",
    "            for study in os.listdir(BASE_DIR + patient): # for each study in that patient folder\n",
    "                #print(\"study={}\".format(study))\n",
    "                label = study_label[study.split('_')[1]] # get label 0 or 1,based on folder name.\n",
    "                path = BASE_DIR + patient + '/' + study + '/' # path to this study\n",
    "                #print(\"label={} path={}\".format(label,path))\n",
    "                study_data[phase].loc[i] = [path, len(os.listdir(path)), label] # add new row\n",
    "               \n",
    "                #print(\"study_data={}\".format(study_data))\n",
    "                i+=1\n",
    "            j+=1\n",
    "    #print(\"study_data={}\".format(study_data))\n",
    "    return study_data,patientStudyCount"
   ]
  },
  {
   "cell_type": "code",
   "execution_count": 2,
   "metadata": {
    "scrolled": true
   },
   "outputs": [
    {
     "name": "stderr",
     "output_type": "stream",
     "text": [
      "100%|█████████████████████████████████████████████████████████████████████████████| 3267/3267 [00:15<00:00, 212.51it/s]\n",
      "100%|███████████████████████████████████████████████████████████████████████████████| 207/207 [00:00<00:00, 228.37it/s]\n"
     ]
    },
    {
     "name": "stdout",
     "output_type": "stream",
     "text": [
      "# of study_data for phase train =3460\n",
      "study group category=Counter({1: 3094, 2: 157, 3: 12, 4: 4})\n"
     ]
    },
    {
     "data": {
      "image/png": "[encoded data removed]",
      "text/plain": [
       "<Figure size 432x288 with 1 Axes>"
      ]
     },
     "metadata": {
      "needs_background": "light"
     },
     "output_type": "display_data"
    },
    {
     "name": "stdout",
     "output_type": "stream",
     "text": [
      "# of study_data for phase valid =237\n",
      "study group category=Counter({1: 182, 2: 21, 3: 3, 4: 1})\n"
     ]
    },
    {
     "data": {
      "image/png": "[encoded data removed]",
      "text/plain": [
       "<Figure size 432x288 with 1 Axes>"
      ]
     },
     "metadata": {
      "needs_background": "light"
     },
     "output_type": "display_data"
    }
   ],
   "source": [
    "#Exploratory Data analysis.\n",
    "#Plots the number of patients having 1,2,3,4 study groups for both valid and train phase.\n",
    "#The study_data object has number of views per study groups.\n",
    "import matplotlib.pyplot as plt; plt.rcdefaults()\n",
    "import numpy as np\n",
    "import matplotlib.pyplot as plt\n",
    "%matplotlib inline\n",
    "from collections import Counter\n",
    "\n",
    "study_data,patientStudyCount=get_path_imgCount_label('XR_WRIST')\n",
    "\n",
    "my_dict={}\n",
    "for phase in data_cat:\n",
    "    print(\"# of study_data for phase {} ={}\".format(phase,len(study_data[phase])))\n",
    "    my_dict[phase]=pd.DataFrame(columns=['view_key','patient_count'])\n",
    "    my_dict[phase]=Counter(patientStudyCount[phase].StudyCount)\n",
    "    print(\"study group category={}\".format(my_dict[phase]))\n",
    "    x_pos = np.arange(1,len(my_dict[phase].keys())+1)\n",
    "    #print('x_pos={}'.format(x_pos))\n",
    "    plt.bar(x_pos,my_dict[phase].values(), align='center', alpha=0.5)\n",
    "    plt.xticks(x_pos, my_dict[phase].keys() )\n",
    "    plt.xlabel('Number of study groups')\n",
    "    plt.ylabel('Number of Patients with study_type %s' %'XR_WRIST')\n",
    "    plt.title('Patient Count based on number of study groups for %s phase' %phase)\n",
    "    plt.show()\n"
   ]
  },
  {
   "cell_type": "code",
   "execution_count": 3,
   "metadata": {},
   "outputs": [
    {
     "name": "stdout",
     "output_type": "stream",
     "text": [
      "# of study_data for phase train =400\n",
      "# of study_data for phase valid =237\n"
     ]
    }
   ],
   "source": [
    "origin_study_data=study_data.copy()\n",
    "#As my GPU goes OOM after 400 records,limit training to 400 records.\n",
    "study_data[\"train\"]=study_data[\"train\"][0:400]\n",
    "#study_data[\"valid\"]=study_data[\"valid\"][0:20]\n",
    "for phase in data_cat:\n",
    "    print(\"# of study_data for phase {} ={}\".format(phase,len(study_data[phase])))\n",
    "#print(\"study_data for phase valid ={}\".format(study_data['valid']))"
   ]
  },
  {
   "cell_type": "code",
   "execution_count": 4,
   "metadata": {},
   "outputs": [],
   "source": [
    "#Ref:https://pytorch.org/tutorials/beginner/data_loading_tutorial.html\n",
    "#Ref: https://www.aiworkbox.com/lessons/turn-a-list-of-pytorch-tensors-into-one-tensor\n",
    "#defines a dataset, for every study group of a patient,gets the path, view or study counts and label.\n",
    "#Applies transformation if any and converts a list of images (tensors) into one, using the stack function.\n",
    "from torch.utils.data import Dataset, DataLoader\n",
    "from torchvision import transforms, utils\n",
    "from torchvision.datasets.folder import pil_loader\n",
    "import torch\n",
    "\n",
    "class MuraDataset(Dataset):\n",
    "   \n",
    "    def __init__(self, df, transform=None):\n",
    "        #Args:\n",
    "            #df : A pandas DataFrame with image path,counts and labels.\n",
    "            #transform (callable, optional): Optional transform to be applied\n",
    "                #on a sample.\n",
    "                \n",
    "        self.df = df\n",
    "        self.transform = transform\n",
    "        #self.imageShow=False\n",
    "\n",
    "    def __len__(self):\n",
    "        return len(self.df)\n",
    "\n",
    "    def __getitem__(self, idx): #for a studygroup of a patient, get the image paths,counts and the label.\n",
    "        study_path = self.df.iloc[idx, 0]\n",
    "        count = self.df.iloc[idx, 1]\n",
    "        labels = self.df.iloc[idx, 2]\n",
    "        images = []\n",
    "        for i in range(count):\n",
    "            image = pil_loader(study_path + 'image%s.png' % (i+1))\n",
    "            images.append(self.transform(image))\n",
    "            #plt.imshow(image)\n",
    "            #plt.show()\n",
    "            #print(\"Size: {} \".format(np.array(image).shape))\n",
    "        images = torch.stack(images)\n",
    "        sample = {'images': images, 'label': labels}\n",
    "        \n",
    "        return sample"
   ]
  },
  {
   "cell_type": "code",
   "execution_count": 5,
   "metadata": {},
   "outputs": [],
   "source": [
    "#Ref: https://stanford.edu/~shervine/blog/pytorch-how-to-generate-data-parallel\n",
    "#Dataloaders are iterators thro the dataset , which helps in bacthing,shuffling and parallel process \n",
    "#using mutli workers(4).\n",
    "\n",
    "#From the MURA paper\n",
    "#\"Before feeding images into the network, we normalized each image to have the same mean and standard deviation\n",
    "#of images in the ImageNet training set. We then scaled the variable-sized images to 224×224.\n",
    "#We augmented the data during training by applying random lateral inversions and rotations.\"\n",
    "\n",
    "#define muraDataLoaders or iterators to iterate through the muraDataset and apply needed transforms.\n",
    "#could not have a batch size of more than 1. Since I had only one GPU, was throwing exception if num_workers >0\n",
    "#So no parallelism was achieved.\n",
    "import pprint\n",
    "def muraDataLoaders(study_data, batch_size=1):\n",
    "\n",
    "    mura_transforms = {\n",
    "        'train': transforms.Compose([\n",
    "                transforms.Resize((224, 224)),\n",
    "                transforms.RandomHorizontalFlip(),\n",
    "                transforms.RandomRotation(10),\n",
    "                transforms.ToTensor(),\n",
    "                transforms.Normalize([0.485, 0.456, 0.406], [0.229, 0.224, 0.225])#normalize to imageNet mean &std.\n",
    "        ]),\n",
    "        'valid': transforms.Compose([\n",
    "            transforms.Resize((224, 224)),\n",
    "            transforms.ToTensor(),\n",
    "            transforms.Normalize([0.485, 0.456, 0.406], [0.229, 0.224, 0.225])\n",
    "        ]),\n",
    "    }\n",
    "    image_datasets = {phase: MuraDataset(study_data[phase], transform=mura_transforms[phase]) for phase in data_cat}\n",
    "    pprint.pformat(\"image_datasets={}\".format(image_datasets)) \n",
    "    dataloaders = {phase: DataLoader(image_datasets[phase], batch_size=batch_size, shuffle=True, num_workers=0) for phase in data_cat}\n",
    "    return dataloaders"
   ]
  },
  {
   "cell_type": "code",
   "execution_count": 6,
   "metadata": {},
   "outputs": [],
   "source": [
    "#Ref:https://pytorch.org/docs/master/_modules/torchvision/models/densenet.html\n",
    "#source below from above URL for denseNet169 and denseNet.\n",
    "#Need to move it to its own .py file.\n",
    "import torch\n",
    "import torch.nn as nn\n",
    "import torch.nn.functional as F\n",
    "import torch.utils.model_zoo as model_zoo\n",
    "from collections import OrderedDict\n",
    "\n",
    "__all__ = ['DenseNet', 'densenet169']\n",
    "\n",
    "\n",
    "model_urls = {\n",
    "    'densenet169': 'https://download.pytorch.org/models/densenet169-b2777c0a.pth',\n",
    "}\n",
    "\n",
    "def densenet169(pretrained=False, **kwargs):\n",
    "    r\"\"\"Densenet-169 model from\n",
    "    `\"Densely Connected Convolutional Networks\" <https://arxiv.org/pdf/1608.06993.pdf>`_\n",
    "\n",
    "    Args:\n",
    "        pretrained (bool): If True, returns a model pre-trained on ImageNet\n",
    "    \"\"\"\n",
    "    model = DenseNet(num_init_features=64, growth_rate=32, block_config=(6, 12, 32, 32),\n",
    "                     **kwargs)\n",
    "    if pretrained:\n",
    "        model.load_state_dict(model_zoo.load_url(model_urls['densenet169']), strict=False)\n",
    "    return model\n",
    "\n",
    "class _DenseLayer(nn.Sequential):\n",
    "    def __init__(self, num_input_features, growth_rate, bn_size, drop_rate):\n",
    "        super(_DenseLayer, self).__init__()\n",
    "        self.add_module('norm1', nn.BatchNorm2d(num_input_features)),\n",
    "        self.add_module('relu1', nn.ReLU(inplace=True)),\n",
    "        self.add_module('conv1', nn.Conv2d(num_input_features, bn_size *\n",
    "                        growth_rate, kernel_size=1, stride=1, bias=False)),\n",
    "        self.add_module('norm2', nn.BatchNorm2d(bn_size * growth_rate)),\n",
    "        self.add_module('relu2', nn.ReLU(inplace=True)),\n",
    "        self.add_module('conv2', nn.Conv2d(bn_size * growth_rate, growth_rate,\n",
    "                        kernel_size=3, stride=1, padding=1, bias=False)),\n",
    "        self.drop_rate = drop_rate\n",
    "\n",
    "    def forward(self, x):\n",
    "        new_features = super(_DenseLayer, self).forward(x)\n",
    "        if self.drop_rate > 0:\n",
    "            new_features = F.dropout(new_features, p=self.drop_rate, training=self.training)\n",
    "        return torch.cat([x, new_features], 1)\n",
    "\n",
    "\n",
    "class _DenseBlock(nn.Sequential):\n",
    "    def __init__(self, num_layers, num_input_features, bn_size, growth_rate, drop_rate):\n",
    "        super(_DenseBlock, self).__init__()\n",
    "        for i in range(num_layers):\n",
    "            layer = _DenseLayer(num_input_features + i * growth_rate, growth_rate, bn_size, drop_rate)\n",
    "            self.add_module('denselayer%d' % (i + 1), layer)\n",
    "\n",
    "\n",
    "class _Transition(nn.Sequential):\n",
    "    def __init__(self, num_input_features, num_output_features):\n",
    "        super(_Transition, self).__init__()\n",
    "        self.add_module('norm', nn.BatchNorm2d(num_input_features))\n",
    "        self.add_module('relu', nn.ReLU(inplace=True))\n",
    "        self.add_module('conv', nn.Conv2d(num_input_features, num_output_features,\n",
    "                                          kernel_size=1, stride=1, bias=False))\n",
    "        self.add_module('pool', nn.AvgPool2d(kernel_size=2, stride=2))\n",
    "\n",
    "\n",
    "class DenseNet(nn.Module):\n",
    "    r\"\"\"Densenet-BC model class, based on\n",
    "    `\"Densely Connected Convolutional Networks\" <https://arxiv.org/pdf/1608.06993.pdf>`_\n",
    "\n",
    "    Args:\n",
    "        growth_rate (int) - how many filters to add each layer (`k` in paper)\n",
    "        block_config (list of 4 ints) - how many layers in each pooling block\n",
    "        num_init_features (int) - the number of filters to learn in the first convolution layer\n",
    "        bn_size (int) - multiplicative factor for number of bottle neck layers\n",
    "          (i.e. bn_size * k features in the bottleneck layer)\n",
    "        drop_rate (float) - dropout rate after each dense layer\n",
    "        num_classes (int) - number of classification classes\n",
    "    \"\"\"\n",
    "    def __init__(self, growth_rate=32, block_config=(6, 12, 24, 16),\n",
    "                 num_init_features=64, bn_size=4, drop_rate=0, num_classes=1000):\n",
    "\n",
    "        super(DenseNet, self).__init__()\n",
    "\n",
    "        # First convolution\n",
    "        self.features = nn.Sequential(OrderedDict([\n",
    "            ('conv0', nn.Conv2d(3, num_init_features, kernel_size=7, stride=2, padding=3, bias=False)),\n",
    "            ('norm0', nn.BatchNorm2d(num_init_features)),\n",
    "            ('relu0', nn.ReLU(inplace=True)),\n",
    "            ('pool0', nn.MaxPool2d(kernel_size=3, stride=2, padding=1)),\n",
    "        ]))\n",
    "\n",
    "        # Each denseblock\n",
    "        num_features = num_init_features\n",
    "        for i, num_layers in enumerate(block_config):\n",
    "            block = _DenseBlock(num_layers=num_layers, num_input_features=num_features,\n",
    "                                bn_size=bn_size, growth_rate=growth_rate, drop_rate=drop_rate)\n",
    "            self.features.add_module('denseblock%d' % (i + 1), block)\n",
    "            num_features = num_features + num_layers * growth_rate\n",
    "            if i != len(block_config) - 1:\n",
    "                trans = _Transition(num_input_features=num_features, num_output_features=num_features // 2)\n",
    "                self.features.add_module('transition%d' % (i + 1), trans)\n",
    "                num_features = num_features // 2\n",
    "\n",
    "        # Final batch norm\n",
    "        self.features.add_module('norm5', nn.BatchNorm2d(num_features))\n",
    "        \n",
    "        # Linear layer\n",
    "        # self.classifier = nn.Linear(num_features, 1000)\n",
    "        # self.fc = nn.Linear(1000, 1)\n",
    "        \n",
    "        self.fc = nn.Linear(num_features, 1)\n",
    "        \n",
    "        # Official init from torch repo.\n",
    "        for m in self.modules():\n",
    "            if isinstance(m, nn.Conv2d):\n",
    "                nn.init.kaiming_normal(m.weight.data)\n",
    "            elif isinstance(m, nn.BatchNorm2d):\n",
    "                m.weight.data.fill_(1)\n",
    "                m.bias.data.zero_()\n",
    "            elif isinstance(m, nn.Linear):\n",
    "                m.bias.data.zero_()\n",
    "\n",
    "    def forward(self, x):\n",
    "        features = self.features(x)\n",
    "        out = F.relu(features, inplace=True)\n",
    "        out = F.avg_pool2d(out, kernel_size=7, stride=1).view(features.size(0), -1)\n",
    "        # out = F.relu(self.classifier(out))\n",
    "        out = F.sigmoid(self.fc(out))\n",
    "        return out\n",
    "    "
   ]
  },
  {
   "cell_type": "code",
   "execution_count": 7,
   "metadata": {},
   "outputs": [
    {
     "name": "stderr",
     "output_type": "stream",
     "text": [
      "c:\\users\\sp2624\\appdata\\local\\continuum\\miniconda3\\envs\\capstone-project\\lib\\site-packages\\ipykernel_launcher.py:118: UserWarning: nn.init.kaiming_normal is now deprecated in favor of nn.init.kaiming_normal_.\n"
     ]
    }
   ],
   "source": [
    "model = densenet169(pretrained=True)\n",
    "model = model.cuda()#train on GPU if available."
   ]
  },
  {
   "cell_type": "code",
   "execution_count": 8,
   "metadata": {
    "scrolled": false
   },
   "outputs": [
    {
     "name": "stdout",
     "output_type": "stream",
     "text": [
      "poitive_count={'train': 481, 'valid': 295} , negative_count={'train': 662, 'valid': 364}\n"
     ]
    }
   ],
   "source": [
    "#compute the balanced class weights for weighted binary cross entrophy.\n",
    "#fucntion classCount gives the number of positive and negative counts per phase       \n",
    "# return a count of positive or negative image class to assign wts.\n",
    "def classCount(dframe,result): \n",
    "    #count=dframe[dframe['Label']==result]['Count'].sum()\n",
    "    count=dframe[dframe['Path'].str.contains(result)]['Count'].sum()\n",
    "    return count\n",
    "\n",
    "positive_count={phase: classCount(study_data[phase],'positive') for phase in data_cat}\n",
    "negative_count={phase: classCount(study_data[phase],'negative') for phase in data_cat}\n",
    "\n",
    "print(\"poitive_count={} , negative_count={}\".format(positive_count,negative_count))\n",
    "    "
   ]
  },
  {
   "cell_type": "code",
   "execution_count": 9,
   "metadata": {},
   "outputs": [
    {
     "name": "stdout",
     "output_type": "stream",
     "text": [
      "zero_weight={'train': tensor([0.4208], device='cuda:0'), 'valid': tensor([0.4476], device='cuda:0')} , one_weight={'train': tensor([0.5792], device='cuda:0'), 'valid': tensor([0.5524], device='cuda:0')}\n"
     ]
    }
   ],
   "source": [
    "from torch.autograd import Variable\n",
    "def numpyToVariable(x):\n",
    "    #convert numpy float to Variable tensor float    \n",
    "    return Variable(torch.cuda.FloatTensor([x]), requires_grad=False)\n",
    "\n",
    "zero_weight= {phase: numpyToVariable(positive_count[phase] / (negative_count[phase] + positive_count[phase])) for phase in data_cat}\n",
    "one_weight = {phase: numpyToVariable(negative_count[phase] / (negative_count[phase] + positive_count[phase])) for phase in data_cat}\n",
    "print(\"zero_weight={} , one_weight={}\".format(zero_weight,one_weight))\n"
   ]
  },
  {
   "cell_type": "code",
   "execution_count": 10,
   "metadata": {},
   "outputs": [],
   "source": [
    "# weighted BCE is given by −(wt1*y*log(p)+wt0*(1−y)log(1−p))\n",
    "\n",
    "class Weighted_BCE_loss(torch.nn.modules.Module):\n",
    "    def __init__(self, Wt1, Wt0):\n",
    "        super(Weighted_BCE_loss, self).__init__()\n",
    "        self.Wt1 = Wt1\n",
    "        self.Wt0 = Wt0\n",
    "        \n",
    "    def forward(self, inputs, targets, phase):\n",
    "        loss = - (self.Wt1[phase] * targets * inputs.log() + self.Wt0[phase] * (1 - targets) * (1 - inputs).log())\n",
    "        return loss\n",
    "    "
   ]
  },
  {
   "cell_type": "code",
   "execution_count": 11,
   "metadata": {
    "scrolled": true
   },
   "outputs": [
    {
     "name": "stdout",
     "output_type": "stream",
     "text": [
      "Train batches: 400\n",
      "Valid batches: 237 \n",
      "\n",
      "Epoch 1/5\n",
      "----------\n",
      "================Phase=train\n",
      "0\r"
     ]
    },
    {
     "name": "stderr",
     "output_type": "stream",
     "text": [
      "c:\\users\\sp2624\\appdata\\local\\continuum\\miniconda3\\envs\\capstone-project\\lib\\site-packages\\torch\\nn\\functional.py:1332: UserWarning: nn.functional.sigmoid is deprecated. Use torch.sigmoid instead.\n",
      "  warnings.warn(\"nn.functional.sigmoid is deprecated. Use torch.sigmoid instead.\")\n"
     ]
    },
    {
     "name": "stdout",
     "output_type": "stream",
     "text": [
      "train Loss: 0.3343 Acc: 0.5775\n",
      "Confusion Meter:\n",
      " [[0.6652893  0.33471075]\n",
      " [0.556962   0.443038  ]]\n",
      "================Phase=valid\n",
      "valid Loss: 0.4559 Acc: 0.4937\n",
      "Confusion Meter:\n",
      " [[0.44285715 0.55714285]\n",
      " [0.4329897  0.5670103 ]]\n",
      "Time elapsed: 3m 58s\n",
      "\n",
      "Epoch 2/5\n",
      "----------\n",
      "================Phase=train\n",
      "train Loss: 0.3206 Acc: 0.6225\n",
      "Confusion Meter:\n",
      " [[0.6735537 0.3264463]\n",
      " [0.4556962 0.5443038]]\n",
      "================Phase=valid\n",
      "valid Loss: 0.5375 Acc: 0.4473\n",
      "Confusion Meter:\n",
      " [[0.40714285 0.5928571 ]\n",
      " [0.49484536 0.5051546 ]]\n",
      "Time elapsed: 7m 50s\n",
      "\n",
      "Epoch 3/5\n",
      "----------\n",
      "================Phase=train\n",
      "train Loss: 0.3075 Acc: 0.6600\n",
      "Confusion Meter:\n",
      " [[0.6859504  0.3140496 ]\n",
      " [0.37974682 0.62025315]]\n",
      "================Phase=valid\n",
      "valid Loss: 0.6573 Acc: 0.5359\n",
      "Confusion Meter:\n",
      " [[0.76428574 0.23571429]\n",
      " [0.7938144  0.20618556]]\n",
      "Epoch     2: reducing learning rate of group 0 to 1.0000e-05.\n",
      "Time elapsed: 11m 42s\n",
      "\n",
      "Epoch 4/5\n",
      "----------\n",
      "================Phase=train\n",
      "train Loss: 0.2912 Acc: 0.7125\n",
      "Confusion Meter:\n",
      " [[0.78512394 0.21487603]\n",
      " [0.39873418 0.60126585]]\n",
      "================Phase=valid\n",
      "valid Loss: 0.4671 Acc: 0.4304\n",
      "Confusion Meter:\n",
      " [[0.2857143  0.71428573]\n",
      " [0.36082473 0.63917524]]\n",
      "Time elapsed: 15m 34s\n",
      "\n",
      "Epoch 5/5\n",
      "----------\n",
      "================Phase=train\n",
      "train Loss: 0.2863 Acc: 0.7050\n",
      "Confusion Meter:\n",
      " [[0.7231405 0.2768595]\n",
      " [0.3227848 0.6772152]]\n",
      "================Phase=valid\n",
      "valid Loss: 0.5065 Acc: 0.5274\n",
      "Confusion Meter:\n",
      " [[0.62857145 0.37142858]\n",
      " [0.6185567  0.3814433 ]]\n",
      "Epoch     4: reducing learning rate of group 0 to 1.0000e-06.\n",
      "Time elapsed: 19m 36s\n",
      "\n",
      "Training complete in 19m 36s\n",
      "Best valid Acc: 0.535865\n",
      "train_acc=[0.5775, 0.6225, 0.66, 0.7125, 0.705]\n",
      "valid_acc=[0.4936708860759494, 0.4472573839662447, 0.5358649789029536, 0.43037974683544306, 0.5274261603375527]\n",
      "train_cost=[tensor(0.3343, device='cuda:0'), tensor(0.3206, device='cuda:0'), tensor(0.3075, device='cuda:0'), tensor(0.2912, device='cuda:0'), tensor(0.2863, device='cuda:0')], valid_cost=[tensor(0.4559, device='cuda:0'), tensor(0.5375, device='cuda:0'), tensor(0.6573, device='cuda:0'), tensor(0.4671, device='cuda:0'), tensor(0.5065, device='cuda:0')]\n"
     ]
    },
    {
     "data": {
      "image/png": "[encoded data removed]",
      "text/plain": [
       "<Figure size 720x360 with 2 Axes>"
      ]
     },
     "metadata": {
      "needs_background": "light"
     },
     "output_type": "display_data"
    },
    {
     "name": "stdout",
     "output_type": "stream",
     "text": [
      "no of abnormal labels=67 , normal labels=133\n",
      "no of abnormal preds=8, no of normal preds=105\n",
      "running_correct =113\n",
      "observed_acc=0.565\n",
      "Loss: 1.5998,obsv_Acc: 0.565,exp_Acc: 0.3625,kappa: 0.3176\n",
      "Confusion Meter:\n",
      " [[0.7894737  0.21052632]\n",
      " [0.880597   0.11940298]]\n"
     ]
    }
   ],
   "source": [
    "#import from train.py the train_model and predict_with_metrics \n",
    "#criterion or loss function is the weighted BCE agve\n",
    "#Using Adam as the optimizer with the learning rate of 0.0001\n",
    "#Using a scheduler to reduce the learning rate on a plateau.\n",
    "\n",
    "from train import train_model, predict_with_metrics\n",
    "if __name__ == '__main__':\n",
    "    dataloaders = muraDataLoaders(study_data, batch_size=1)\n",
    "\n",
    "    criterion = Weighted_BCE_loss(one_weight, zero_weight)\n",
    "    optimizer = torch.optim.Adam(model.parameters(), lr=0.0001)\n",
    "    scheduler = torch.optim.lr_scheduler.ReduceLROnPlateau(optimizer, mode='min', patience=1, verbose=True)\n",
    "    df_size = {phase: len(study_data[phase]) for phase in data_cat}\n",
    "    \n",
    "    #Train model\n",
    "    model = train_model(model, criterion, optimizer, dataloaders, scheduler, df_size, num_epochs=5)\n",
    "    #Save the weights\n",
    "    torch.save(model.state_dict(), 'models/model.pth')\n",
    "    \n",
    "    #Since the predict_with_metrics works on valid data, we assign the new valid data\n",
    "    # to be origin study_data from 400-600.This is considered the testing data.\n",
    "    study_data['valid']=origin_study_data['train'][400:600]\n",
    "    \n",
    "    test_df_size= {phase: len(study_data[phase]) for phase in data_cat}\n",
    "    test_dataloaders = muraDataLoaders(study_data, batch_size=1)\n",
    "    \n",
    "    predict_with_metrics(model, criterion, test_dataloaders, test_df_size)"
   ]
  }
 ],
 "metadata": {
  "kernelspec": {
   "display_name": "Python 3",
   "language": "python",
   "name": "python3"
  },
  "language_info": {
   "codemirror_mode": {
    "name": "ipython",
    "version": 3
   },
   "file_extension": ".py",
   "mimetype": "text/x-python",
   "name": "python",
   "nbconvert_exporter": "python",
   "pygments_lexer": "ipython3",
   "version": "3.7.3"
  }
 },
 "nbformat": 4,
 "nbformat_minor": 2
}
